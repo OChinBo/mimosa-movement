{
 "cells": [
  {
   "cell_type": "code",
   "execution_count": 1,
   "metadata": {},
   "outputs": [],
   "source": [
    "import pandas as pd\n",
    "import numpy as np\n",
    "import tensorflow as tf\n",
    "import matplotlib.pyplot as plt\n",
    "\n",
    "import os\n",
    "\n",
    "from sklearn.model_selection import train_test_split, StratifiedKFold\n",
    "from sklearn.preprocessing import StandardScaler\n",
    "from sklearn.preprocessing import LabelEncoder, OneHotEncoder\n",
    "from sklearn.utils import shuffle\n",
    "from sklearn.metrics import classification_report, confusion_matrix\n",
    "from tensorflow import keras\n",
    "from keras.models import Sequential\n",
    "from keras.layers import LSTM, Dense, Dropout, Flatten\n",
    "from keras.optimizers import RMSprop\n",
    "from keras.preprocessing.text import Tokenizer\n",
    "from keras.preprocessing import sequence\n",
    "from keras.utils import to_categorical\n",
    "from keras.callbacks import EarlyStopping\n",
    "from scipy.signal import savgol_filter"
   ]
  },
  {
   "cell_type": "code",
   "execution_count": 2,
   "metadata": {},
   "outputs": [],
   "source": [
    "# df = pd.read_csv('data/RAW_A9_01/a9_clean.csv', header=None)\n",
    "# df = pd.read_csv('data/RAW_A9_02/a9_02_clean.csv', header=None)\n",
    "# df = pd.read_csv('data/RAW_A9_02/a9_02_above.csv', header=None)\n",
    "df = pd.read_csv('data/RAW_A9_03/a9_03_clean.csv', header=None)\n",
    "\n",
    "# df = pd.read_csv('data/train_data_UU.csv', header=None)"
   ]
  },
  {
   "cell_type": "code",
   "execution_count": 3,
   "metadata": {},
   "outputs": [
    {
     "name": "stdout",
     "output_type": "stream",
     "text": [
      "total shape + label: (167, 502)\n"
     ]
    }
   ],
   "source": [
    "print(\"total shape + label:\", df.shape)"
   ]
  },
  {
   "cell_type": "code",
   "execution_count": 4,
   "metadata": {},
   "outputs": [],
   "source": [
    "df.replace('a', 'nothing', inplace=True)\n",
    "df.replace('b', 'passing', inplace=True)\n",
    "df.replace('c', 'touching', inplace=True)"
   ]
  },
  {
   "cell_type": "code",
   "execution_count": 5,
   "metadata": {},
   "outputs": [
    {
     "name": "stdout",
     "output_type": "stream",
     "text": [
      "[ Labels ]\n",
      "labelA shape: (77, 502)\n",
      "labelB shape: (16, 502)\n",
      "labelC shape: (74, 502)\n",
      "\n",
      "[ Labels in Train & Test sets ]\n",
      "trainA shape: (50, 502) , testA shape: (16, 502)\n",
      "trainB shape: (12, 502) , testB shape: (4, 502)\n",
      "trainC shape: (59, 502) , testC shape: (15, 502)\n",
      "\n",
      "[ Train & Test sets ]\n",
      "train set: 121 , test set: 43\n",
      "\n"
     ]
    }
   ],
   "source": [
    "# 平均切分各個標籤至train test中\n",
    "\n",
    "TRAIN_SET_RATE = 0.8  # Rate to seperate train set and test set\n",
    "\n",
    "labelA =  df[df.iloc[:, -1] == 'nothing']\n",
    "labelB =  df[df.iloc[:, -1] == 'passing']\n",
    "labelC =  df[df.iloc[:, -1] == 'touching']\n",
    "assert len(labelA) + len(labelB) + len(labelC) == len(df)\n",
    "print(\"[ Labels ]\")\n",
    "print(\"labelA shape:\", labelA.shape)\n",
    "print(\"labelB shape:\", labelB.shape)\n",
    "print(\"labelC shape:\", labelC.shape)\n",
    "print()\n",
    "\n",
    "sfA = shuffle(labelA)\n",
    "trainA, testA = sfA[:int(len(sfA) * TRAIN_SET_RATE)], sfA[int(len(sfA) * TRAIN_SET_RATE):]\n",
    "trainA = trainA[:50]  # shrimp trainA size\n",
    "\n",
    "sfB = shuffle(labelB)\n",
    "trainB, testB = sfB[:int(len(sfB) * TRAIN_SET_RATE)], sfB[int(len(sfB) * TRAIN_SET_RATE):]\n",
    "\n",
    "sfC = shuffle(labelC)\n",
    "trainC, testC = sfC[:int(len(sfC) * TRAIN_SET_RATE)], sfC[int(len(sfC) * TRAIN_SET_RATE):]\n",
    "\n",
    "print(\"[ Labels in Train & Test sets ]\")\n",
    "print(\"trainA shape:\", trainA.shape, \", testA shape:\", testA.shape)\n",
    "print(\"trainB shape:\", trainB.shape, \", testB shape:\", testB.shape)\n",
    "print(\"trainC shape:\", trainC.shape, \", testC shape:\", testC.shape)\n",
    "print()\n",
    "\n",
    "\n",
    "train_set = pd.concat([trainA, trainB, trainC])\n",
    "train_set = shuffle(train_set)\n",
    "test_set = pd.concat([testA, trainB, testC])\n",
    "test_set = shuffle(test_set)\n",
    "print(\"[ Train & Test sets ]\")\n",
    "print(\"train set:\", len(train_set), \", test set:\", len(test_set))\n",
    "print()\n",
    "    \n",
    "x_train, y_train = train_set.iloc[:, 0:-1], train_set.iloc[:, -1]\n",
    "x_test, y_test = test_set.iloc[:, 0:-1], test_set.iloc[:, -1]"
   ]
  },
  {
   "cell_type": "code",
   "execution_count": 6,
   "metadata": {},
   "outputs": [],
   "source": [
    "LABELS = ['nothing', 'passing', 'touching']\n",
    "\n",
    "y_test_index = y_test.index\n",
    "\n",
    "# LabelEncoder\n",
    "le = LabelEncoder()\n",
    "le.fit(LABELS)\n",
    "y_train = le.transform(y_train)\n",
    "y_test = le.transform(y_test)\n",
    "\n",
    "\n",
    "# OneHot\n",
    "# y_train = pd.get_dummies(y_train)\n",
    "# y_test = pd.get_dummies(y_test)\n",
    "y_train = to_categorical(y_train)\n",
    "y_test = to_categorical(y_test)\n",
    "\n",
    "# Standardize\n",
    "sc = StandardScaler()\n",
    "sc.fit(x_train)\n",
    "x_train = sc.transform(x_train)\n",
    "x_test = sc.transform(x_test)\n",
    "\n",
    "# savgol\n",
    "if isinstance(x_train, pd.DataFrame):\n",
    "    for i in range(len(x_train)):\n",
    "        row = x_train.iloc[i]\n",
    "        x_train.iloc[i] = savgol_filter(row, 85, 2)\n",
    "    for i in range(len(x_test)):\n",
    "        row = x_test.iloc[i]\n",
    "        x_test.iloc[i] = savgol_filter(row, 85, 2)\n",
    "else:\n",
    "    for i in range(len(x_train)):\n",
    "        row = x_train[i]\n",
    "        x_train[i] = savgol_filter(row, 85, 2)\n",
    "    for i in range(len(x_test)):\n",
    "        row = x_test[i]\n",
    "        x_test[i] = savgol_filter(row, 85, 2)"
   ]
  },
  {
   "cell_type": "code",
   "execution_count": 7,
   "metadata": {
    "scrolled": false
   },
   "outputs": [
    {
     "name": "stdout",
     "output_type": "stream",
     "text": [
      "[ Reshape ]\n",
      "train X: (121, 1, 501) , train Y: (121, 3)\n",
      "test X: (43, 1, 501) , test Y: (43, 3)\n",
      "\n",
      "Model: \"sequential\"\n",
      "_________________________________________________________________\n",
      "Layer (type)                 Output Shape              Param #   \n",
      "=================================================================\n",
      "lstm (LSTM)                  (None, 64)                144896    \n",
      "_________________________________________________________________\n",
      "dropout (Dropout)            (None, 64)                0         \n",
      "_________________________________________________________________\n",
      "flatten (Flatten)            (None, 64)                0         \n",
      "_________________________________________________________________\n",
      "dense (Dense)                (None, 128)               8320      \n",
      "_________________________________________________________________\n",
      "dense_1 (Dense)              (None, 40)                5160      \n",
      "_________________________________________________________________\n",
      "dense_2 (Dense)              (None, 3)                 123       \n",
      "=================================================================\n",
      "Total params: 158,499\n",
      "Trainable params: 158,499\n",
      "Non-trainable params: 0\n",
      "_________________________________________________________________\n"
     ]
    }
   ],
   "source": [
    "epochs = 150\n",
    "batch_size = 10\n",
    "verbose = 0  # verbose : 0, 1或2。日誌顯示模式。0 =安靜模式, 1 =進度條, 2 =每輪一行。\n",
    "time_step = 1\n",
    "feature_dim = x_train.shape[1]\n",
    "\n",
    "# reshape input to be 3D [samples, timesteps, features]\n",
    "if isinstance(x_train, np.ndarray):\n",
    "    x_train_reshape = x_train.reshape((x_train.shape[0], time_step, x_train.shape[1]))\n",
    "    x_test_reshape = x_test.reshape((x_test.shape[0], time_step, x_test.shape[1]))\n",
    "else:\n",
    "    x_train_reshape = x_train.values.reshape((x_train.shape[0], time_step, x_train.shape[1]))\n",
    "    x_test_reshape = x_test.values.reshape((x_test.shape[0], time_step, x_test.shape[1]))\n",
    "print(\"[ Reshape ]\")\n",
    "print(\"train X:\", x_train_reshape.shape, \", train Y:\", y_train.shape)\n",
    "print(\"test X:\", x_test_reshape.shape, \", test Y:\", y_test.shape)\n",
    "print()\n",
    "\n",
    "model = Sequential()\n",
    "model.add(LSTM(64, input_shape=(time_step, feature_dim)))\n",
    "model.add(Dropout(0.2))\n",
    "model.add(Flatten())\n",
    "model.add(Dense(128, activation='relu'))\n",
    "model.add(Dense(40))\n",
    "# model.add(Dropout(0.5))\n",
    "model.add(Dense(3, activation='softmax'))  # out_layer\n",
    "model.summary()\n",
    "model.compile(loss='categorical_crossentropy',optimizer='adam',metrics=['categorical_accuracy'])\n",
    "# model.compile(loss='sparse_categorical_crossentropy',optimizer='adam',metrics=['sparse_categorical_accuracy'])\n",
    "# model.compile(loss=keras.losses.SparseCategoricalCrossentropy(from_logits=True),optimizer='adam',metrics=['accuracy'])\n"
   ]
  },
  {
   "cell_type": "markdown",
   "metadata": {},
   "source": [
    "## Use test to validate"
   ]
  },
  {
   "cell_type": "code",
   "execution_count": 8,
   "metadata": {
    "scrolled": true
   },
   "outputs": [],
   "source": [
    "# history = model.fit(x_train_reshape, \n",
    "#                     y_train, \n",
    "#                     batch_size=batch_size, \n",
    "#                     epochs=epochs, \n",
    "#                     verbose=verbose, \n",
    "#                     validation_data=(x_test_reshape, y_test))\n",
    "# plt.plot(history.history['loss'], label='train')\n",
    "# plt.plot(history.history['val_loss'], label='test')\n",
    "# plt.legend() \n",
    "# plt.show() \n",
    "\n",
    "# history.history.keys()\n",
    "# history.history['categorical_accuracy']"
   ]
  },
  {
   "cell_type": "markdown",
   "metadata": {},
   "source": [
    "## validation_split"
   ]
  },
  {
   "cell_type": "code",
   "execution_count": 9,
   "metadata": {
    "scrolled": false
   },
   "outputs": [],
   "source": [
    "# validation_split=0.33\n",
    "\n",
    "# history = model.fit(x_train_reshape,\n",
    "#                     y_train,\n",
    "#                     validation_split=validation_split, \n",
    "#                     batch_size=batch_size,\n",
    "#                     epochs=epochs,\n",
    "#                     verbose=verbose)\n",
    "# _, accuracy = model.evaluate(x_test_reshape, y_test)\n",
    "\n",
    "# plt.plot(history.history['loss'], label='train')\n",
    "# plt.plot(history.history['val_loss'], label='test')\n",
    "# plt.legend()\n",
    "# plt.show()\n",
    "\n",
    "# print(accuracy)"
   ]
  },
  {
   "cell_type": "markdown",
   "metadata": {},
   "source": [
    "## KFOLD"
   ]
  },
  {
   "cell_type": "code",
   "execution_count": 10,
   "metadata": {
    "scrolled": false
   },
   "outputs": [
    {
     "name": "stdout",
     "output_type": "stream",
     "text": [
      "categorical_accuracy: 84.62%\n",
      "categorical_accuracy: 83.33%\n",
      "categorical_accuracy: 91.67%\n",
      "categorical_accuracy: 91.67%\n",
      "WARNING:tensorflow:5 out of the last 5 calls to <function Model.make_test_function.<locals>.test_function at 0x0000029A70A0BDC0> triggered tf.function retracing. Tracing is expensive and the excessive number of tracings could be due to (1) creating @tf.function repeatedly in a loop, (2) passing tensors with different shapes, (3) passing Python objects instead of tensors. For (1), please define your @tf.function outside of the loop. For (2), @tf.function has experimental_relax_shapes=True option that relaxes argument shapes that can avoid unnecessary retracing. For (3), please refer to https://www.tensorflow.org/guide/function#controlling_retracing and https://www.tensorflow.org/api_docs/python/tf/function for  more details.\n",
      "categorical_accuracy: 91.67%\n",
      "WARNING:tensorflow:6 out of the last 6 calls to <function Model.make_test_function.<locals>.test_function at 0x0000029A7483F4C0> triggered tf.function retracing. Tracing is expensive and the excessive number of tracings could be due to (1) creating @tf.function repeatedly in a loop, (2) passing tensors with different shapes, (3) passing Python objects instead of tensors. For (1), please define your @tf.function outside of the loop. For (2), @tf.function has experimental_relax_shapes=True option that relaxes argument shapes that can avoid unnecessary retracing. For (3), please refer to https://www.tensorflow.org/guide/function#controlling_retracing and https://www.tensorflow.org/api_docs/python/tf/function for  more details.\n",
      "categorical_accuracy: 58.33%\n",
      "categorical_accuracy: 75.00%\n",
      "categorical_accuracy: 91.67%\n",
      "categorical_accuracy: 83.33%\n",
      "categorical_accuracy: 83.33%\n",
      "83.46% (+/- 9.87%)\n"
     ]
    }
   ],
   "source": [
    "seed = 7\n",
    "np.random.seed(seed)\n",
    "\n",
    "kfold = StratifiedKFold(n_splits=10, shuffle=True, random_state=seed)\n",
    "cvscores = []\n",
    "for train, test in kfold.split(x_train_reshape, y_train.argmax(1)):\n",
    "    # create model\n",
    "    model = Sequential()\n",
    "    model.add(LSTM(64, input_shape=(time_step, feature_dim)))\n",
    "    model.add(Dropout(0.2))\n",
    "    model.add(Flatten())\n",
    "    model.add(Dense(128, activation='relu'))\n",
    "    model.add(Dense(40))\n",
    "    # model.add(Dropout(0.5))\n",
    "    model.add(Dense(3, activation='softmax'))  # out_layer\n",
    "    \n",
    "    # Compile model\n",
    "    model.compile(loss='categorical_crossentropy',optimizer='adam',metrics=['categorical_accuracy'])\n",
    "    \n",
    "    # Fit the model\n",
    "    model.fit(x_train_reshape[train], y_train[train], epochs=epochs, batch_size=batch_size, verbose=0)\n",
    "    \n",
    "    # evaluate the model\n",
    "    scores = model.evaluate(x_train_reshape[test], y_train[test], verbose=0)\n",
    "    print(\"%s: %.2f%%\" % (model.metrics_names[1], scores[1]*100))\n",
    "    cvscores.append(scores[1] * 100)\n",
    "print(\"%.2f%% (+/- %.2f%%)\" % (np.mean(cvscores), np.std(cvscores)))"
   ]
  },
  {
   "cell_type": "markdown",
   "metadata": {},
   "source": [
    "## print report matrix"
   ]
  },
  {
   "cell_type": "code",
   "execution_count": 11,
   "metadata": {},
   "outputs": [
    {
     "name": "stdout",
     "output_type": "stream",
     "text": [
      "2/2 [==============================] - 0s 2ms/step\n",
      "              precision    recall  f1-score   support\n",
      "\n",
      "     nothing       0.88      0.94      0.91        16\n",
      "     passing       0.91      0.83      0.87        12\n",
      "    touching       1.00      1.00      1.00        15\n",
      "\n",
      "    accuracy                           0.93        43\n",
      "   macro avg       0.93      0.92      0.93        43\n",
      "weighted avg       0.93      0.93      0.93        43\n",
      "\n",
      "\n",
      "Confusion matrix:\n",
      "[[15  1  0]\n",
      " [ 2 10  0]\n",
      " [ 0  0 15]]\n",
      "\n"
     ]
    }
   ],
   "source": [
    "LABELS = ['nothing', 'passing', 'touching']\n",
    "le = LabelEncoder()\n",
    "le.fit(LABELS)\n",
    "\n",
    "y_pred = model.predict(x_test_reshape, verbose=1)\n",
    "\n",
    "# argmax(1) to get label\n",
    "y_pred_bool = np.argmax(y_pred, axis=1)\n",
    "y_test_bool = np.argmax(y_test, axis=1)\n",
    "# y_pred = le.inverse_transform(y_pred_bool)\n",
    "\n",
    "print(classification_report(y_test_bool, y_pred_bool, zero_division=1, target_names=LABELS))\n",
    "print()\n",
    "print(\"Confusion matrix:\")\n",
    "print(confusion_matrix(y_test_bool, y_pred_bool, labels=[0,1,2]))\n",
    "print()"
   ]
  },
  {
   "cell_type": "code",
   "execution_count": 12,
   "metadata": {
    "scrolled": true
   },
   "outputs": [
    {
     "name": "stdout",
     "output_type": "stream",
     "text": [
      "Head:\n",
      "[[1.8982279e-11 6.1784922e-10 1.0000000e+00]\n",
      " [9.9999988e-01 4.3993893e-12 1.3237116e-07]\n",
      " [9.9680114e-01 2.9463840e-03 2.5247401e-04]\n",
      " [9.9992561e-01 7.1530594e-05 2.8079919e-06]\n",
      " [7.7719325e-01 2.2270682e-01 9.9924233e-05]]\n",
      "\n",
      "True:\n",
      "[2 0 0 0 0 2 2 1 2 2 0 2 1 1 2 2 0 0 2 2 0 2 1 2 0 2 0 0 0 2 1 0 1 1 1 0 2\n",
      " 1 1 1 1 0 0]\n",
      "\n",
      "Predict:\n",
      "[2 0 0 0 0 2 2 1 2 2 0 2 1 1 2 2 0 0 2 2 0 2 1 2 0 2 1 0 0 2 1 0 1 1 0 0 2\n",
      " 1 1 0 1 0 0]\n",
      "\n"
     ]
    }
   ],
   "source": [
    "print(\"Head:\")\n",
    "print(y_pred[:5])\n",
    "print()\n",
    "\n",
    "print(\"True:\")\n",
    "print(y_test_bool)\n",
    "print()\n",
    "\n",
    "print(\"Predict:\")\n",
    "print(y_pred_bool)\n",
    "print()"
   ]
  },
  {
   "cell_type": "code",
   "execution_count": 15,
   "metadata": {},
   "outputs": [
    {
     "name": "stdout",
     "output_type": "stream",
     "text": [
      "LSTM_2021-07-03_00-44-10.h5\n"
     ]
    }
   ],
   "source": [
    "# ### Save model\n",
    "from time import localtime, strftime\n",
    "\n",
    "timestamp = strftime(\"%Y-%m-%d_%H-%M-%S\", localtime())\n",
    "model_name = \"LSTM_\" + timestamp + \".h5\"\n",
    "print(model_name)\n",
    "\n",
    "\n",
    "model.save('model/' + model_name)"
   ]
  },
  {
   "cell_type": "markdown",
   "metadata": {},
   "source": [
    "## print mistake graphs"
   ]
  },
  {
   "cell_type": "code",
   "execution_count": 14,
   "metadata": {
    "scrolled": false
   },
   "outputs": [
    {
     "name": "stdout",
     "output_type": "stream",
     "text": [
      "2/2 [==============================] - 0s 2ms/step\n",
      "============== Row:026 Index:87 ============== (True:0 Predict:1 )\n"
     ]
    },
    {
     "data": {
      "image/png": "[encoded data removed]",
      "text/plain": [
       "<Figure size 432x288 with 1 Axes>"
      ]
     },
     "metadata": {
      "needs_background": "light"
     },
     "output_type": "display_data"
    },
    {
     "name": "stdout",
     "output_type": "stream",
     "text": [
      "============== Row:034 Index:77 ============== (True:1 Predict:0 )\n"
     ]
    },
    {
     "data": {
      "image/png": "[encoded data removed]",
      "text/plain": [
       "<Figure size 432x288 with 1 Axes>"
      ]
     },
     "metadata": {
      "needs_background": "light"
     },
     "output_type": "display_data"
    },
    {
     "name": "stdout",
     "output_type": "stream",
     "text": [
      "============== Row:039 Index:135 ============== (True:1 Predict:0 )\n"
     ]
    },
    {
     "data": {
      "image/png": "[encoded data removed]",
      "text/plain": [
       "<Figure size 432x288 with 1 Axes>"
      ]
     },
     "metadata": {
      "needs_background": "light"
     },
     "output_type": "display_data"
    }
   ],
   "source": [
    "y_pred = model.predict(x_test_reshape, verbose=1)\n",
    "y_pred_bool = np.argmax(y_pred, axis=1)\n",
    "y_test_bool = np.argmax(y_test, axis=1)\n",
    "\n",
    "x = np.linspace(0, len(df.iloc[0]) - 1, len(df.iloc[0]) - 1)\n",
    "for i in range(len(y_test)):\n",
    "    if y_pred_bool[i] != y_test_bool[i]:\n",
    "        idx = y_test_index[i]\n",
    "        print(\"============== Row:{:03d} Index:{} ============== (True:{} Predict:{} )\".format(i, idx, y_test_bool[i], y_pred_bool[i]))\n",
    "        y = df.iloc[idx, :-1]\n",
    "        y = savgol_filter(y, 85, 2)\n",
    "        plt.plot(x, y)\n",
    "        plt.show()"
   ]
  },
  {
   "cell_type": "code",
   "execution_count": null,
   "metadata": {},
   "outputs": [],
   "source": []
  },
  {
   "cell_type": "code",
   "execution_count": null,
   "metadata": {},
   "outputs": [],
   "source": []
  }
 ],
 "metadata": {
  "kernelspec": {
   "display_name": "Python 3",
   "language": "python",
   "name": "python3"
  },
  "language_info": {
   "codemirror_mode": {
    "name": "ipython",
    "version": 3
   },
   "file_extension": ".py",
   "mimetype": "text/x-python",
   "name": "python",
   "nbconvert_exporter": "python",
   "pygments_lexer": "ipython3",
   "version": "3.9.5"
  }
 },
 "nbformat": 4,
 "nbformat_minor": 2
}
